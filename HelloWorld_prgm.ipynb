{
  "nbformat": 4,
  "nbformat_minor": 0,
  "metadata": {
    "colab": {
      "name": "HelloWorld_prgm.ipynb",
      "provenance": [],
      "authorship_tag": "ABX9TyPP889rwOacxAtq6jQzRHAU",
      "include_colab_link": true
    },
    "kernelspec": {
      "name": "python3",
      "display_name": "Python 3"
    },
    "language_info": {
      "name": "python"
    }
  },
  "cells": [
    {
      "cell_type": "markdown",
      "metadata": {
        "id": "view-in-github",
        "colab_type": "text"
      },
      "source": [
        "<a href=\"https://colab.research.google.com/github/cvrhadoop/python/blob/main/HelloWorld_prgm.ipynb\" target=\"_parent\"><img src=\"https://colab.research.google.com/assets/colab-badge.svg\" alt=\"Open In Colab\"/></a>"
      ]
    },
    {
      "cell_type": "code",
      "metadata": {
        "colab": {
          "base_uri": "https://localhost:8080/"
        },
        "id": "PjY3rLFHPbDX",
        "outputId": "bf3a0594-ff28-4cb3-e17e-33e458965dee"
      },
      "source": [
        "print(\"Hello World Dhanunjay\");"
      ],
      "execution_count": 2,
      "outputs": [
        {
          "output_type": "stream",
          "text": [
            "Hello World Dhanunjay\n"
          ],
          "name": "stdout"
        }
      ]
    }
  ]
}